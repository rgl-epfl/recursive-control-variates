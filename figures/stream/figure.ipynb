{
 "cells": [
  {
   "cell_type": "code",
   "execution_count": null,
   "metadata": {},
   "outputs": [],
   "source": [
    "import sys\n",
    "sys.path.append(\"..\")\n",
    "from figutils import *\n",
    "import matplotlib.patheffects as pe"
   ]
  },
  {
   "cell_type": "code",
   "execution_count": null,
   "metadata": {},
   "outputs": [],
   "source": [
    "scene_name = 'stream'\n",
    "method = 'cv_ps'\n",
    "output_dir = os.path.join(OUTPUT_DIR, scene_name)\n",
    "iterations = [3, 5, 25, 75, 250, 750]"
   ]
  },
  {
   "cell_type": "code",
   "execution_count": null,
   "metadata": {},
   "outputs": [],
   "source": [
    "\n",
    "imgs = []\n",
    "weights = []\n",
    "labels = []\n",
    "\n",
    "method_dir = os.path.join(output_dir, method)\n",
    "\n",
    "for i in iterations:\n",
    "    labels.append(f\"it={i}\")\n",
    "    imgs.append(mi.Bitmap(os.path.join(method_dir, \"img\", f\"{i:04d}.exr\")))\n",
    "    weights.append(mi.Bitmap(os.path.join(output_dir, method, \"weights\", f\"{i:04d}.exr\")))\n",
    "\n",
    "labels.append(\"Target\")\n",
    "imgs.append(mi.Bitmap(os.path.join(output_dir, \"img_ref.exr\")))\n",
    "weights.append(None)\n",
    "img_ref = mi.Bitmap(os.path.join(output_dir, \"img_ref.exr\"))\n",
    "result = np.load(os.path.join(method_dir, \"result.npz\"))\n",
    "\n",
    "variance = np.load(os.path.join(method_dir, \"result.npz\"))['var']"
   ]
  },
  {
   "cell_type": "code",
   "execution_count": null,
   "metadata": {},
   "outputs": [],
   "source": [
    "sns.set_style('white')"
   ]
  },
  {
   "cell_type": "code",
   "execution_count": null,
   "metadata": {},
   "outputs": [],
   "source": [
    "var = [variance[it] for it in iterations] "
   ]
  },
  {
   "cell_type": "code",
   "execution_count": null,
   "metadata": {},
   "outputs": [],
   "source": [
    "base_size = 4\n",
    "\n",
    "w,h = imgs[0].size()\n",
    "\n",
    "n_cols = len(imgs) + 1\n",
    "n_rows = 2 if show_weights else 1\n",
    "\n",
    "wspace = 0.03\n",
    "hspace = 0.04 * w/h\n",
    "aspect = gridspec_aspect(n_rows, n_cols, w, h, wspace=wspace, hspace=hspace)\n",
    "\n",
    "fig = plt.figure(1, figsize=(PAGE_WIDTH, PAGE_WIDTH / aspect))\n",
    "\n",
    "gs = fig.add_gridspec(n_rows, n_cols, wspace=wspace, hspace=hspace)\n",
    "\n",
    "for i, (img, weight, label) in enumerate(zip(imgs, weights, labels)):\n",
    "    ax = fig.add_subplot(gs[0, i])\n",
    "    ax.imshow(mi.util.convert_to_bitmap(img), interpolation='none')\n",
    "    disable_ticks(ax)\n",
    "    if i != n_cols - 2:\n",
    "        v = np.sqrt(var[i])\n",
    "        e = int(np.log10(v))-1\n",
    "        text = f\"$\\sigma={v:.3f}$\"\n",
    "        ax.text(0.99*w, 0.99*h, text, ha=\"right\", va=\"bottom\", color=\"white\", fontsize=DEFAULT_FONTSIZE, path_effects=[pe.withStroke(linewidth=1, foreground=\"black\")])\n",
    "\n",
    "    if show_weights:\n",
    "        if i == 0:\n",
    "            ax.set_ylabel(\"Primal\")\n",
    "        ax = fig.add_subplot(gs[1, i])\n",
    "        if weight is not None:\n",
    "            weight = mi.TensorXf(weights[i])[:,:,0]\n",
    "            im = ax.imshow(weight, cmap='Reds_r', vmin=0, vmax=1, interpolation='none')\n",
    "        else:\n",
    "            weight = np.ones((h, w))\n",
    "            ax.imshow(weight, cmap='gray', vmin=0, vmax=1)\n",
    "            ax.text(w/2, h/2, \"N/A\", ha=\"center\", va=\"center\", color=\"darkgrey\")\n",
    "            disable_border(ax)\n",
    "\n",
    "        disable_ticks(ax)\n",
    "        \n",
    "        if i == 0:\n",
    "            ax.set_ylabel(\"Weights\")\n",
    "\n",
    "    if i != n_cols-2:\n",
    "        title = f\"Step {iterations[i]}\\n\"\n",
    "        ax.set_title(title, verticalalignment='top', y=-0.2)\n",
    "    else:\n",
    "        ax.set_title(label, verticalalignment='top', y=-0.2)\n",
    "\n",
    "    if i == n_cols - 2:\n",
    "        cbax = ax.inset_axes([1.04, 0, 0.05, 1], transform=ax.transAxes)\n",
    "        cbar = fig.colorbar(im, cax=cbax, ticks=[0, 0.5, 1])\n",
    "        cbar.outline.set_visible(False)\n",
    "        cbar.ax.tick_params(size=0)\n",
    "\n",
    "save_fig(\"stream\")\n"
   ]
  }
 ],
 "metadata": {
  "kernelspec": {
   "display_name": "Python 3.9.12 ('graphics')",
   "language": "python",
   "name": "python3"
  },
  "language_info": {
   "codemirror_mode": {
    "name": "ipython",
    "version": 3
   },
   "file_extension": ".py",
   "mimetype": "text/x-python",
   "name": "python",
   "nbconvert_exporter": "python",
   "pygments_lexer": "ipython3",
   "version": "3.9.12"
  },
  "orig_nbformat": 4,
  "vscode": {
   "interpreter": {
    "hash": "83642eaf50c97d4e19d0a23d915e5d4e870af428ff693683146158fe3feeea5a"
   }
  }
 },
 "nbformat": 4,
 "nbformat_minor": 2
}
