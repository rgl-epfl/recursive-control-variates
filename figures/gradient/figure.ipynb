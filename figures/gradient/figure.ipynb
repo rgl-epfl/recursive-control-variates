{
 "cells": [
  {
   "cell_type": "code",
   "execution_count": null,
   "metadata": {},
   "outputs": [],
   "source": [
    "import sys\n",
    "sys.path.append(\"..\")\n",
    "from figutils import *"
   ]
  },
  {
   "cell_type": "code",
   "execution_count": null,
   "metadata": {},
   "outputs": [],
   "source": [
    "scene_name = 'gradients'\n",
    "output_dir = os.path.join(OUTPUT_DIR, scene_name)\n",
    "it = 20"
   ]
  },
  {
   "cell_type": "code",
   "execution_count": null,
   "metadata": {},
   "outputs": [],
   "source": [
    "methods = [\"gt\", \"baseline\", 'cv_ps']\n",
    "method_names = [r\"\\textbf{(a)} Ground Truth\", r\"\\textbf{(b)} Baseline\", r\"\\textbf{(c)} Ours\"]\n",
    "grads = [\"l1\", \"l2\"]\n",
    "grad_names = [r\"$\\mathcal{L}^1$\", r\"$\\mathcal{L}^2$\"]\n",
    "gradients = []\n",
    "imgs = []\n",
    "scales = [0, 0]\n",
    "channel = 1\n",
    "\n",
    "imgs.append(mi.TensorXf(mi.Bitmap(os.path.join(output_dir, \"cv_ps\", \"img_final.exr\"))))\n",
    "imgs.append(mi.TensorXf(mi.Bitmap(os.path.join(output_dir, \"cv_ps\", \"img_F\", f\"{it//5:04d}.exr\"))))\n",
    "imgs.append(mi.TensorXf(mi.Bitmap(os.path.join(output_dir, \"cv_ps\", \"img\", f\"{it//5:04d}.exr\"))))\n",
    "ref = mi.TensorXf(mi.Bitmap(os.path.join(output_dir, \"img_ref.exr\")))\n",
    "\n",
    "h,w,_ = imgs[0].shape\n",
    "N = w*h\n",
    "\n",
    "gradients.append([dr.sign(img - ref) for img in imgs])\n",
    "gradients.append([(img - ref) for img in imgs])\n",
    "\n",
    "for i, method in enumerate(methods):\n",
    "    for j, grad in enumerate(grads):\n",
    "        scales[j] = dr.maximum(dr.max(dr.abs(gradients[j][i])), scales[j])[0]\n",
    "\n",
    "scales = [1.0, scales[1]/200]"
   ]
  },
  {
   "cell_type": "code",
   "execution_count": null,
   "metadata": {},
   "outputs": [],
   "source": [
    "sns.set_style('white')"
   ]
  },
  {
   "cell_type": "code",
   "execution_count": null,
   "metadata": {},
   "outputs": [],
   "source": [
    "n_cols = 3\n",
    "n_rows = 3\n",
    "\n",
    "crop1 = [0.4, 0.23, 0.1]\n",
    "crop2 = [0.5, 0.52, 0.12]\n",
    "crops = [crop1, crop2]\n",
    "crop_colors = [\"r\", \"g\"]\n",
    "\n",
    "outer_wspace = 0.05\n",
    "outer_hspace = 0.03\n",
    "\n",
    "inset_hspace = 0.03\n",
    "inset_wspace = 0.03\n",
    "\n",
    "main_aspect = w/h\n",
    "insets_aspect = gridspec_aspect(2, 2, 1, 1, wspace=inset_wspace, hspace=inset_hspace)\n",
    "height_ratios = [1/main_aspect, 1/insets_aspect]\n",
    "outer_aspect = gridspec_aspect(2, 3, 1, height_ratios, wspace=outer_wspace, hspace=outer_hspace)\n",
    "\n",
    "import matplotlib.gridspec as gridspec\n",
    "import matplotlib.patches as patches\n",
    "\n",
    "fig = plt.figure(1, figsize=(TEXT_WIDTH, TEXT_WIDTH / outer_aspect))\n",
    "outer_gs = fig.add_gridspec(2, 3, wspace=outer_wspace, hspace=outer_hspace, height_ratios=height_ratios)\n",
    "\n",
    "# scales = [2, 2e-1]\n",
    "\n",
    "for i, method in enumerate(method_names):\n",
    "    main_gs = gridspec.GridSpecFromSubplotSpec(1, 1, subplot_spec=outer_gs[0, i], wspace=0.0, hspace=0.0)\n",
    "    inset_gs = gridspec.GridSpecFromSubplotSpec(2, 2, subplot_spec=outer_gs[1, i], wspace=inset_wspace, hspace=inset_hspace)\n",
    "    ax = fig.add_subplot(main_gs[0])\n",
    "    ax.imshow(mi.util.convert_to_bitmap(imgs[i]), interpolation='none')\n",
    "    disable_ticks(ax)\n",
    "    if i == 0:\n",
    "        for l, ((rx, ry, s), color) in enumerate(zip(crops, crop_colors)):\n",
    "            left = int(rx*w)\n",
    "            size = int(s*w)\n",
    "            top = int(ry*h)\n",
    "            rect = patches.Rectangle((left, top), size, size, linewidth=0.5, edgecolor=color, facecolor='none')\n",
    "            ax.add_patch(rect)\n",
    "        ax.set_ylabel(\"Primal\")\n",
    "\n",
    "    for j, loss_name in enumerate(grads):\n",
    "        for l, ((rx, ry, s), color) in enumerate(zip(crops, crop_colors)):\n",
    "            ax = fig.add_subplot(inset_gs[j, l])\n",
    "            left = int(rx*w)\n",
    "            size = int(s*w)\n",
    "            right = left + size\n",
    "            top = int(ry*h)\n",
    "            bottom = top + size\n",
    "            im = ax.imshow(gradients[j][i][top:bottom, left:right, channel], cmap='coolwarm', vmin=-scales[j], vmax=scales[j], interpolation='none')\n",
    "            disable_ticks(ax)\n",
    "            plt.setp(ax.spines.values(), color=color)\n",
    "            rect = patches.Rectangle((0, 0), size-1, size-1, linewidth=1.0, edgecolor=color, facecolor='none')\n",
    "            ax.add_patch(rect)\n",
    "\n",
    "            if i == 0 and l == 0:\n",
    "                ax.set_ylabel(grad_names[j])\n",
    "            if i == 2 and l == 1:\n",
    "                cbax = ax.inset_axes([1.04, 0.0, 0.08, 1.0], transform=ax.transAxes)\n",
    "                cbar = fig.colorbar(im, cax=cbax, ticks=[-scales[j]*0.9, 0, scales[j]*0.9], format=\"%.1f\")\n",
    "                cbar.outline.set_visible(False)\n",
    "                cbar.ax.tick_params(size=0)\n",
    "                \n",
    "\n",
    "    # Ghost axes for the labels (https://stackoverflow.com/a/69117807)\n",
    "    ax_label = fig.add_subplot(outer_gs[1, i])\n",
    "    ax_label.axis('off')\n",
    "    ax_label.set_title(method)\n",
    "\n",
    "save_fig(\"gradients\", pad_inches=0.02)"
   ]
  }
 ],
 "metadata": {
  "kernelspec": {
   "display_name": "Python 3.9.12 ('graphics')",
   "language": "python",
   "name": "python3"
  },
  "language_info": {
   "codemirror_mode": {
    "name": "ipython",
    "version": 3
   },
   "file_extension": ".py",
   "mimetype": "text/x-python",
   "name": "python",
   "nbconvert_exporter": "python",
   "pygments_lexer": "ipython3",
   "version": "3.9.12"
  },
  "orig_nbformat": 4,
  "vscode": {
   "interpreter": {
    "hash": "83642eaf50c97d4e19d0a23d915e5d4e870af428ff693683146158fe3feeea5a"
   }
  }
 },
 "nbformat": 4,
 "nbformat_minor": 2
}
