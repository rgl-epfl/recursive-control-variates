{
 "cells": [
  {
   "cell_type": "code",
   "execution_count": null,
   "metadata": {},
   "outputs": [],
   "source": [
    "import sys\n",
    "sys.path.append(\"..\")\n",
    "from figutils import *\n",
    "from tol_colors import tol_cmap, tol_cset"
   ]
  },
  {
   "cell_type": "code",
   "execution_count": null,
   "metadata": {},
   "outputs": [],
   "source": [
    "loss_names = [\"l1\", \"l2\"]\n",
    "\n",
    "losses = []\n",
    "grads = []\n",
    "output_dir = os.path.join(OUTPUT_DIR, os.path.basename(os.getcwd()))\n",
    "spps = np.load(os.path.join(output_dir, \"spps.npy\"))\n",
    "param_landscape = np.load(os.path.join(output_dir, \"param_landscape.npy\"))\n",
    "\n",
    "for loss_name in loss_names:\n",
    "    losses.append([])\n",
    "    grads.append([])\n",
    "    for spp in spps:\n",
    "        losses[-1].append(np.load(os.path.join(output_dir, f\"loss_{loss_name}_{spp:04d}.npy\")))\n",
    "        grads[-1].append(np.load(os.path.join(output_dir, f\"grad_{loss_name}_{spp:04d}.npy\")))\n",
    "\n"
   ]
  },
  {
   "cell_type": "code",
   "execution_count": null,
   "metadata": {},
   "outputs": [],
   "source": [
    "n_rows = len(loss_names)\n",
    "n_cols = 2\n",
    "\n",
    "aspect = 1.75\n",
    "fig = plt.figure(1, figsize=(TEXT_WIDTH, TEXT_WIDTH / aspect))\n",
    "gs = fig.add_gridspec(n_rows, n_cols, wspace=0.2, hspace=0.05)\n",
    "\n",
    "# colors = sns.color_palette(\"dark:seagreen\", n_colors=len(spps))\n",
    "colors = [tol_cmap(\"rainbow_PuRd\")(0.15 + 0.5 * i/len(spps)) for i in range(len(spps))]\n",
    "# colors = tol_cset('bright')\n",
    "\n",
    "titles = [r\"$\\mathcal{L}^1$\", r\"$\\mathcal{L}^2$\"]\n",
    "for i, title in enumerate(titles):\n",
    "    ax_loss = fig.add_subplot(gs[i, 0])\n",
    "    ax_grad = fig.add_subplot(gs[i, 1])\n",
    "    ax_grad.plot([5, 5], [min([grads[i][j].min() for j in range(len(spps))]), max([grads[i][j].max() for j in range(len(spps))])], color=\"grey\", linestyle=\"--\")\n",
    "    ax_grad.plot(param_landscape, np.zeros_like(param_landscape), color=\"grey\", linestyle=\"--\")\n",
    "    for j, spp in enumerate(spps):\n",
    "        ax_loss.semilogy(param_landscape, losses[i][j], label=str(spp), color=colors[j])\n",
    "        ax_loss.scatter(param_landscape[np.argmin(losses[i][j])], np.min(losses[i][j]), color=colors[j], marker=\"x\")\n",
    "        ax_grad.plot(param_landscape, grads[i][j], label=str(spp), color=colors[j])\n",
    "    if i == 0:\n",
    "        ax_grad.tick_params(axis='x', which='both', bottom=False, top=False, labelbottom=False)\n",
    "        ax_loss.tick_params(axis='x', which='both', bottom=False, top=False, labelbottom=False)\n",
    "    # disable_border(ax_grad)\n",
    "    # disable_border(ax_loss)\n",
    "    ax_loss.set_ylabel(title)\n",
    "    # ax_loss.yaxis.tick_right()\n",
    "    # ax_grad.yaxis.tick_right()\n",
    "\n",
    "ax_grad.legend(title=\"spp\")\n",
    "ax_loss.set_title(\"Loss\", y=-0.3)\n",
    "ax_grad.set_title(\"Gradient\", y=-0.3)\n",
    "save_fig(\"landscapes\", pad_inches=0.015)"
   ]
  },
  {
   "cell_type": "code",
   "execution_count": null,
   "metadata": {},
   "outputs": [],
   "source": []
  }
 ],
 "metadata": {
  "kernelspec": {
   "display_name": "Python 3.9.12 ('graphics')",
   "language": "python",
   "name": "python3"
  },
  "language_info": {
   "codemirror_mode": {
    "name": "ipython",
    "version": 3
   },
   "file_extension": ".py",
   "mimetype": "text/x-python",
   "name": "python",
   "nbconvert_exporter": "python",
   "pygments_lexer": "ipython3",
   "version": "3.9.12"
  },
  "orig_nbformat": 4,
  "vscode": {
   "interpreter": {
    "hash": "83642eaf50c97d4e19d0a23d915e5d4e870af428ff693683146158fe3feeea5a"
   }
  }
 },
 "nbformat": 4,
 "nbformat_minor": 2
}
