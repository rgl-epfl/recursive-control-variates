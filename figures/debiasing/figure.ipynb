{
 "cells": [
  {
   "cell_type": "code",
   "execution_count": null,
   "metadata": {},
   "outputs": [],
   "source": [
    "import sys\n",
    "sys.path.append(\"..\")\n",
    "from figutils import *\n",
    "from string import ascii_lowercase\n",
    "import matplotlib.patheffects as pe"
   ]
  },
  {
   "cell_type": "code",
   "execution_count": null,
   "metadata": {},
   "outputs": [],
   "source": [
    "output_dir = os.path.join(OUTPUT_DIR, os.path.basename(os.getcwd()))"
   ]
  },
  {
   "cell_type": "code",
   "execution_count": null,
   "metadata": {},
   "outputs": [],
   "source": [
    "methods = [\"baseline\", \"debiased\"]\n",
    "method_names = [\"Naive\", \"Debiased\"]\n",
    "losses = []\n",
    "imgs_final = []\n",
    "imgs = []\n",
    "\n",
    "ref_img = mi.Bitmap(os.path.join(output_dir, \"img_ref.exr\"))\n",
    "for method in methods:\n",
    "    losses.append(np.load(os.path.join(output_dir, method, \"loss_hist.npz\")))\n",
    "    imgs.append(mi.TensorXf(mi.Bitmap(os.path.join(output_dir, method, \"img\", \"0249.exr\"))))\n",
    "    imgs_final.append(mi.TensorXf(mi.Bitmap(os.path.join(output_dir, method, \"img_inf\", \"0249.exr\"))))\n"
   ]
  },
  {
   "cell_type": "code",
   "execution_count": null,
   "metadata": {},
   "outputs": [],
   "source": [
    "n_cols = 3\n",
    "n_rows = 2\n",
    "base_size = 3\n",
    "h,w,_ = imgs[0].shape\n",
    "\n",
    "wspace = 0.02\n",
    "hspace = 0.02 * w/h\n",
    "aspect = gridspec_aspect(n_rows, n_cols, w, h, wspace=wspace, hspace=hspace)\n",
    "\n",
    "sns.set_style('white')\n",
    "fig = plt.figure(1, figsize=(TEXT_WIDTH, TEXT_WIDTH / aspect))\n",
    "gs = fig.add_gridspec(n_rows, n_cols, wspace=wspace, hspace=hspace)\n",
    "\n",
    "for i, method in enumerate(method_names):\n",
    "    ax = fig.add_subplot(gs[0, i])\n",
    "    ax.imshow(mi.util.convert_to_bitmap(imgs[i]), interpolation='none')\n",
    "    std = dr.sqrt(dr.mean(dr.sqr(imgs[i] - imgs_final[i])))[0]\n",
    "    text = f\"$\\sigma={std:.3f}$\"\n",
    "    ax.text(0.99*w, 0.99*h, text, ha=\"right\", va=\"bottom\", color=\"white\", fontsize=DEFAULT_FONTSIZE, path_effects=[pe.withStroke(linewidth=1, foreground=\"black\")])\n",
    "    if i == 0:\n",
    "        ax.set_ylabel(\"Primal\")\n",
    "    disable_ticks(ax)\n",
    "\n",
    "    ax = fig.add_subplot(gs[1, i])\n",
    "    ax.imshow(mi.util.convert_to_bitmap(imgs_final[i]), interpolation='none')\n",
    "    if i == 0:\n",
    "        ax.set_ylabel(\"Re-rendered\")\n",
    "    disable_ticks(ax)\n",
    "    ax.set_title(rf\"\\textbf{{({ascii_lowercase[i]})}} {method}\", y=-0.3)\n",
    "\n",
    "ax = fig.add_subplot(gs[1, 2])\n",
    "ax.imshow(mi.util.convert_to_bitmap(ref_img), interpolation='none')\n",
    "disable_ticks(ax)\n",
    "ax.set_title(r\"\\textbf{(c)} Target\", y=-0.3)\n",
    "\n",
    "save_fig('debiasing_v2')"
   ]
  },
  {
   "cell_type": "code",
   "execution_count": null,
   "metadata": {},
   "outputs": [],
   "source": []
  },
  {
   "cell_type": "code",
   "execution_count": null,
   "metadata": {},
   "outputs": [],
   "source": []
  }
 ],
 "metadata": {
  "kernelspec": {
   "display_name": "Python 3.9.12 ('graphics')",
   "language": "python",
   "name": "python3"
  },
  "language_info": {
   "codemirror_mode": {
    "name": "ipython",
    "version": 3
   },
   "file_extension": ".py",
   "mimetype": "text/x-python",
   "name": "python",
   "nbconvert_exporter": "python",
   "pygments_lexer": "ipython3",
   "version": "3.9.12"
  },
  "orig_nbformat": 4,
  "vscode": {
   "interpreter": {
    "hash": "83642eaf50c97d4e19d0a23d915e5d4e870af428ff693683146158fe3feeea5a"
   }
  }
 },
 "nbformat": 4,
 "nbformat_minor": 2
}
