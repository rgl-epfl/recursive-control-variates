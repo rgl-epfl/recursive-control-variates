{
 "cells": [
  {
   "cell_type": "code",
   "execution_count": null,
   "metadata": {},
   "outputs": [],
   "source": [
    "import sys\n",
    "sys.path.append(\"..\")\n",
    "from figutils import *\n",
    "from string import ascii_lowercase"
   ]
  },
  {
   "cell_type": "code",
   "execution_count": null,
   "metadata": {},
   "outputs": [],
   "source": [
    "output_dir = os.path.join(OUTPUT_DIR, os.path.basename(os.getcwd()))"
   ]
  },
  {
   "cell_type": "code",
   "execution_count": null,
   "metadata": {},
   "outputs": [],
   "source": [
    "methods = [\"analytic\", \"baseline\", \"recursive\"]\n",
    "method_names = [\"Analytic\", \"Ours - naïve\", \"Ours - recursive\"]\n",
    "imgs = []\n",
    "weights = []\n",
    "it = 50\n",
    "variances = []\n",
    "img_ref = mi.Bitmap(os.path.join(output_dir, \"img_ref.exr\"))\n",
    "\n",
    "for method in methods:\n",
    "    imgs.append(mi.Bitmap(os.path.join(output_dir, method, \"img\", f\"{it:03d}.exr\")))\n",
    "    weights.append(mi.Bitmap(os.path.join(output_dir, method, \"weights\", f\"{it:03d}.exr\")))\n",
    "    variances.append(np.load(os.path.join(output_dir, method, \"var.npy\")))\n"
   ]
  },
  {
   "cell_type": "code",
   "execution_count": null,
   "metadata": {},
   "outputs": [],
   "source": [
    "show_std = True\n",
    "import matplotlib.patheffects as pe\n",
    "n_rows = len(methods)\n",
    "n_cols = 2\n",
    "w,h = imgs[0].size()\n",
    "wspace = 0.02\n",
    "hspace = 0.02*w/h\n",
    "aspect = gridspec_aspect(n_rows, n_cols, w, h, wspace, hspace)\n",
    "sns.set_style('white')\n",
    "fig = plt.figure(1, figsize=(TEXT_WIDTH, TEXT_WIDTH / aspect))\n",
    "gs = fig.add_gridspec(n_rows, n_cols, wspace=wspace, hspace=hspace)\n",
    "\n",
    "for i, method in enumerate(method_names):\n",
    "    ax = fig.add_subplot(gs[i, 0])\n",
    "    ax.imshow(mi.util.convert_to_bitmap(imgs[i]), interpolation='none')\n",
    "    if i == 2:\n",
    "        ax.set_title(\"Primal\")\n",
    "    # disable_border(ax)\n",
    "    disable_ticks(ax)\n",
    "    ax.set_ylabel(method)\n",
    "    # ax.set_ylabel(f\"Var: {variances[i][it]:.1e}\\n\" +fr\"\\textbf{{({ascii_lowercase[i]})}} {method}\", y=-0.5)\n",
    "    # ax.text(0.99*w, 0.99*h, f\"Var: {variances[i][it]:.1e}\", ha=\"right\", va=\"bottom\", color=\"white\", fontsize=DEFAULT_FONTSIZE, path_effects=[pe.withStroke(linewidth=1, foreground=\"black\")])\n",
    "    v = variances[i][it]\n",
    "    if show_std:\n",
    "        v = np.sqrt(v)\n",
    "    e = int(np.log10(v))\n",
    "    if e == 0:\n",
    "        text = f\"$\\sigma{'' if show_std else '^2'}={v/10**e:.3f}$\"\n",
    "    else:\n",
    "        text = f\"$\\sigma{'' if show_std else '^2'}={v/10**e:.4f}\\cdot 10^{{{e}}}$\"\n",
    "    ax.text(0.99*w, 0.99*h, text, ha=\"right\", va=\"bottom\", color=\"white\", fontsize=DEFAULT_FONTSIZE, path_effects=[pe.withStroke(linewidth=1, foreground=\"black\")])\n",
    "\n",
    "\n",
    "    ax = fig.add_subplot(gs[i, 1])\n",
    "    im = ax.imshow(mi.TensorXf(weights[i])[..., 0], cmap='Reds_r', vmin=0.0, vmax=1.0, interpolation='none')\n",
    "    if i == 2:\n",
    "        ax.set_title(\"Weights\")\n",
    "    # disable_border(ax)\n",
    "    disable_ticks(ax)\n",
    "\n",
    "    if i == 2:\n",
    "        cbax = ax.inset_axes([1.02, 0, 0.04, 1], transform=ax.transAxes)\n",
    "        cbar = fig.colorbar(im, cax=cbax, ticks=[0, 0.5, 1])\n",
    "        cbar.outline.set_visible(False)\n",
    "        cbar.ax.tick_params(size=0)\n",
    "\n",
    "\n",
    "# gs.update(wspace=0.015, hspace=0.015*aspect)\n",
    "save_fig('steady_state')"
   ]
  },
  {
   "cell_type": "code",
   "execution_count": null,
   "metadata": {},
   "outputs": [],
   "source": []
  },
  {
   "cell_type": "code",
   "execution_count": null,
   "metadata": {},
   "outputs": [],
   "source": []
  }
 ],
 "metadata": {
  "kernelspec": {
   "display_name": "Python 3.9.12 ('graphics')",
   "language": "python",
   "name": "python3"
  },
  "language_info": {
   "codemirror_mode": {
    "name": "ipython",
    "version": 3
   },
   "file_extension": ".py",
   "mimetype": "text/x-python",
   "name": "python",
   "nbconvert_exporter": "python",
   "pygments_lexer": "ipython3",
   "version": "3.9.12"
  },
  "orig_nbformat": 4,
  "vscode": {
   "interpreter": {
    "hash": "83642eaf50c97d4e19d0a23d915e5d4e870af428ff693683146158fe3feeea5a"
   }
  }
 },
 "nbformat": 4,
 "nbformat_minor": 2
}
