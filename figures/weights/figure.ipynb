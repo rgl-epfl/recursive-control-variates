{
 "cells": [
  {
   "cell_type": "code",
   "execution_count": null,
   "metadata": {},
   "outputs": [],
   "source": [
    "import sys\n",
    "sys.path.append(\"..\")\n",
    "from figutils import *"
   ]
  },
  {
   "cell_type": "code",
   "execution_count": null,
   "metadata": {},
   "outputs": [],
   "source": [
    "scene_name = 'weights'\n",
    "output_dir = os.path.join(OUTPUT_DIR, scene_name)\n",
    "i = 49"
   ]
  },
  {
   "cell_type": "code",
   "execution_count": null,
   "metadata": {},
   "outputs": [],
   "source": [
    "methods = [\"baseline\", \"cv_pss\", \"cv_ps\"]\n",
    "method_names = [r\"\\textbf{(a)} Baseline\", r\"\\textbf{(b)} CV-PSS\", r\"\\textbf{(c)} CV-PS\"]\n",
    "results = []\n",
    "final_states = []\n",
    "intermediate_states = []\n",
    "textures = []\n",
    "weights = []\n",
    "\n",
    "ref_img = mi.Bitmap(os.path.join(output_dir, \"img_ref.exr\"))\n",
    "start_img = mi.Bitmap(os.path.join(output_dir, \"img_start.exr\"))\n",
    "\n",
    "for method in methods:\n",
    "    results.append(np.load(os.path.join(output_dir, method, \"result.npz\")))\n",
    "    final_states.append(mi.Bitmap(os.path.join(output_dir, method, \"img_final.exr\")))\n",
    "    intermediate_states.append(mi.Bitmap(os.path.join(output_dir, method, \"img\", f\"{i:04d}.exr\")))\n",
    "    if method != 'baseline' and i > 1:\n",
    "        weights.append(mi.Bitmap(os.path.join(output_dir, method, \"weights\", f\"{i:04d}.exr\")))\n",
    "    else:\n",
    "        weights.append(None)\n"
   ]
  },
  {
   "cell_type": "code",
   "execution_count": null,
   "metadata": {},
   "outputs": [],
   "source": [
    "sns.set_style('white')"
   ]
  },
  {
   "cell_type": "code",
   "execution_count": null,
   "metadata": {},
   "outputs": [],
   "source": [
    "base_size = 4\n",
    "w,h = ref_img.size()\n",
    "\n",
    "n_cols = 3\n",
    "n_rows = 2\n",
    "aspect = w * n_cols / h / n_rows\n",
    "\n",
    "fig = plt.figure(1, figsize=(TEXT_WIDTH, TEXT_WIDTH / aspect))\n",
    "wspace= 0.01\n",
    "gs = fig.add_gridspec(n_rows, n_cols, wspace=wspace, hspace=wspace*aspect)\n",
    "\n",
    "for i, method in enumerate(method_names):\n",
    "    ax = fig.add_subplot(gs[0, i])\n",
    "    ax.imshow(mi.util.convert_to_bitmap(intermediate_states[i]), interpolation='none')\n",
    "    disable_ticks(ax)\n",
    "\n",
    "    if i == 0:\n",
    "        ax.set_ylabel(\"Primal\")\n",
    "\n",
    "    ax = fig.add_subplot(gs[1, i])\n",
    "    if weights[i] is not None:\n",
    "        weight = mi.TensorXf(weights[i])[:,:,0]\n",
    "        im = ax.imshow(weight, cmap='Reds_r', vmin=0, vmax=1, interpolation='none')\n",
    "    else:\n",
    "        weight = np.ones((h,w))\n",
    "        ax.text(0.5, 0.5, \"N/A\", ha=\"center\", va=\"center\", color=\"darkgrey\")\n",
    "        disable_border(ax)\n",
    "\n",
    "    if i == 0:\n",
    "        ax.set_ylabel(\"Weights\")\n",
    "\n",
    "    ax.set_title(method, y=-0.25)\n",
    "    disable_ticks(ax)\n",
    "    if i == 2:\n",
    "        cbax = ax.inset_axes([1.02, 0, 0.04, 1], transform=ax.transAxes)\n",
    "        cbar = fig.colorbar(im, cax=cbax, ticks=[0, 0.5, 1])\n",
    "        cbar.outline.set_visible(False)\n",
    "        cbar.ax.tick_params(size=0)\n",
    "save_fig(\"weights\")\n"
   ]
  },
  {
   "cell_type": "code",
   "execution_count": null,
   "metadata": {},
   "outputs": [],
   "source": []
  }
 ],
 "metadata": {
  "kernelspec": {
   "display_name": "Python 3.9.12 ('graphics')",
   "language": "python",
   "name": "python3"
  },
  "language_info": {
   "codemirror_mode": {
    "name": "ipython",
    "version": 3
   },
   "file_extension": ".py",
   "mimetype": "text/x-python",
   "name": "python",
   "nbconvert_exporter": "python",
   "pygments_lexer": "ipython3",
   "version": "3.9.12"
  },
  "orig_nbformat": 4,
  "vscode": {
   "interpreter": {
    "hash": "83642eaf50c97d4e19d0a23d915e5d4e870af428ff693683146158fe3feeea5a"
   }
  }
 },
 "nbformat": 4,
 "nbformat_minor": 2
}
